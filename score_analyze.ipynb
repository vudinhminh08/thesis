{
 "cells": [
  {
   "cell_type": "code",
   "execution_count": 56,
   "metadata": {},
   "outputs": [],
   "source": [
    "\n",
    "import pandas as pd\n",
    "import numpy as np\n",
    "import seaborn as sns\n",
    "import matplotlib.pyplot as plt \n",
    "import os\n",
    "import json"
   ]
  },
  {
   "cell_type": "code",
   "execution_count": 4,
   "metadata": {},
   "outputs": [],
   "source": [
    "df = pd.read_csv('diem_thi.csv')"
   ]
  },
  {
   "cell_type": "code",
   "execution_count": 5,
   "metadata": {},
   "outputs": [
    {
     "data": {
      "text/html": [
       "<div>\n",
       "<style scoped>\n",
       "    .dataframe tbody tr th:only-of-type {\n",
       "        vertical-align: middle;\n",
       "    }\n",
       "\n",
       "    .dataframe tbody tr th {\n",
       "        vertical-align: top;\n",
       "    }\n",
       "\n",
       "    .dataframe thead th {\n",
       "        text-align: right;\n",
       "    }\n",
       "</style>\n",
       "<table border=\"1\" class=\"dataframe\">\n",
       "  <thead>\n",
       "    <tr style=\"text-align: right;\">\n",
       "      <th></th>\n",
       "      <th>Math</th>\n",
       "      <th>Physic</th>\n",
       "      <th>Chemistry</th>\n",
       "      <th>Biography</th>\n",
       "    </tr>\n",
       "  </thead>\n",
       "  <tbody>\n",
       "    <tr>\n",
       "      <th>0</th>\n",
       "      <td>7.0</td>\n",
       "      <td>7.0</td>\n",
       "      <td>9.5</td>\n",
       "      <td>7.0</td>\n",
       "    </tr>\n",
       "    <tr>\n",
       "      <th>1</th>\n",
       "      <td>9.0</td>\n",
       "      <td>3.5</td>\n",
       "      <td>1.5</td>\n",
       "      <td>4.5</td>\n",
       "    </tr>\n",
       "    <tr>\n",
       "      <th>2</th>\n",
       "      <td>3.0</td>\n",
       "      <td>10.0</td>\n",
       "      <td>3.0</td>\n",
       "      <td>3.0</td>\n",
       "    </tr>\n",
       "    <tr>\n",
       "      <th>3</th>\n",
       "      <td>6.5</td>\n",
       "      <td>10.0</td>\n",
       "      <td>3.5</td>\n",
       "      <td>2.5</td>\n",
       "    </tr>\n",
       "    <tr>\n",
       "      <th>4</th>\n",
       "      <td>5.0</td>\n",
       "      <td>6.5</td>\n",
       "      <td>1.0</td>\n",
       "      <td>4.0</td>\n",
       "    </tr>\n",
       "  </tbody>\n",
       "</table>\n",
       "</div>"
      ],
      "text/plain": [
       "   Math  Physic  Chemistry  Biography\n",
       "0   7.0     7.0        9.5        7.0\n",
       "1   9.0     3.5        1.5        4.5\n",
       "2   3.0    10.0        3.0        3.0\n",
       "3   6.5    10.0        3.5        2.5\n",
       "4   5.0     6.5        1.0        4.0"
      ]
     },
     "execution_count": 5,
     "metadata": {},
     "output_type": "execute_result"
    }
   ],
   "source": [
    "df.head()"
   ]
  },
  {
   "cell_type": "code",
   "execution_count": 6,
   "metadata": {},
   "outputs": [
    {
     "name": "stdout",
     "output_type": "stream",
     "text": [
      "<class 'pandas.core.frame.DataFrame'>\n",
      "RangeIndex: 40 entries, 0 to 39\n",
      "Data columns (total 4 columns):\n",
      " #   Column     Non-Null Count  Dtype  \n",
      "---  ------     --------------  -----  \n",
      " 0   Math       40 non-null     float64\n",
      " 1   Physic     40 non-null     float64\n",
      " 2   Chemistry  40 non-null     float64\n",
      " 3   Biography  40 non-null     float64\n",
      "dtypes: float64(4)\n",
      "memory usage: 1.4 KB\n"
     ]
    }
   ],
   "source": [
    "df.info()"
   ]
  },
  {
   "cell_type": "code",
   "execution_count": 7,
   "metadata": {},
   "outputs": [],
   "source": [
    "if(df.isna().sum().sum() != 0):\n",
    "    for col in df.columns:\n",
    "        if(df[col].isnull().any()):\n",
    "            df[col].fillna(0, inplace=True)"
   ]
  },
  {
   "cell_type": "code",
   "execution_count": 40,
   "metadata": {},
   "outputs": [],
   "source": [
    "# df_1 = df['Math']\n",
    "# thong_ke = df_1.value_counts().sort_index()\n",
    "\n",
    "# thong_ke.plot(kind='bar', x = 'Score', y = 'Number of Score', )\n",
    "data_analyze = {}"
   ]
  },
  {
   "cell_type": "code",
   "execution_count": 61,
   "metadata": {},
   "outputs": [],
   "source": [
    "def process_and_save_plot(df, save_path):\n",
    "    if not os.path.exists(save_path):\n",
    "        os.makedirs(save_path)\n",
    "    \n",
    "    for column_name in df.columns:\n",
    "        # Tạo bảng thống kê từ cột cần xử lý\n",
    "        df_temp = df[column_name]\n",
    "        \n",
    "        # Find max, min value\n",
    "        (max_score, count_max_score) = (df_temp.max(), df_temp[df_temp == df_temp.max()].count())\n",
    "        (min_score, count_min_score) = (df_temp.min(), df_temp[df_temp == df_temp.min()].count())\n",
    "        \n",
    "        \n",
    "        #Find number appearance highest, lowest\n",
    "        thong_ke = df_temp.value_counts().sort_index()\n",
    "        thong_ke = thong_ke.rename_axis('score').reset_index(name='number_appearance')\n",
    "        \n",
    "        index_frequent_max = thong_ke['number_appearance'].idxmax()\n",
    "        \n",
    "        (value_highest_appearances, count_value_highest_appearances) = (thong_ke.loc[index_frequent_max, 'score'], thong_ke\n",
    "                                                                          .loc[index_frequent_max, 'number_appearance'])\n",
    "        index_frequent_min = thong_ke['number_appearance'].idxmin()\n",
    "        \n",
    "        (value_lowest_appearances, count_value_lowest_appearances) = (thong_ke.loc[index_frequent_min, 'score'], thong_ke\n",
    "                                                                          .loc[index_frequent_min, 'number_appearance'])\n",
    "        \n",
    "        \n",
    "        # print(value_highest_appearances, count_value_highest_appearances)\n",
    "        data_analyze[column_name] = {\n",
    "            'max_score': int(max_score),\n",
    "            'count_max_score': int(count_max_score),\n",
    "            'max_score': int(min_score),\n",
    "            'count_max_score': int(count_min_score),\n",
    "            'value_highest_appearance': int(value_highest_appearances),\n",
    "            'count_value_highest_appearances': int(count_value_highest_appearances),\n",
    "            'value_lowest_appearance': int(value_lowest_appearances),\n",
    "            'count_value_lowest_appearances': int(count_value_lowest_appearances)\n",
    "        }\n",
    "        \n",
    "        \n",
    "        \n",
    "        # Vẽ biểu đồ\n",
    "        thong_ke.plot(kind='bar', xlabel='Score', ylabel='Number of Score')\n",
    "        plt.title(f'Biểu đồ phân phối điểm của môn  {column_name}')\n",
    "        plt.xticks(rotation=45)\n",
    "        \n",
    "        # Lưu biểu đồ dưới dạng file JPG\n",
    "        save_file_path = os.path.join(save_path, f'{column_name}_distribution.jpg')\n",
    "        plt.savefig(save_file_path)\n",
    "        plt.close()  # Đóng biểu đồ để giải phóng bộ nhớ\n",
    "    \n",
    "    \n",
    "    \n",
    "    print(data_analyze)\n",
    "    with open('summary.json', 'w') as file:\n",
    "        json.dump(data_analyze, file)"
   ]
  },
  {
   "cell_type": "code",
   "execution_count": 62,
   "metadata": {},
   "outputs": [
    {
     "name": "stdout",
     "output_type": "stream",
     "text": [
      "{'Math': {'max_score': 1, 'count_max_score': 1, 'value_highest_appearance': 3, 'count_value_highest_appearances': 4, 'value_lowest_appearance': 1, 'count_value_lowest_appearances': 1}, 'Physic': {'max_score': 1, 'count_max_score': 2, 'value_highest_appearance': 7, 'count_value_highest_appearances': 6, 'value_lowest_appearance': 1, 'count_value_lowest_appearances': 1}, 'Chemistry': {'max_score': 1, 'count_max_score': 1, 'value_highest_appearance': 1, 'count_value_highest_appearances': 8, 'value_lowest_appearance': 1, 'count_value_lowest_appearances': 1}, 'Biography': {'max_score': 1, 'count_max_score': 1, 'value_highest_appearance': 4, 'count_value_highest_appearances': 5, 'value_lowest_appearance': 1, 'count_value_lowest_appearances': 1}}\n"
     ]
    }
   ],
   "source": [
    "process_and_save_plot(df, 'data')"
   ]
  },
  {
   "cell_type": "code",
   "execution_count": null,
   "metadata": {},
   "outputs": [],
   "source": []
  }
 ],
 "metadata": {
  "kernelspec": {
   "display_name": "data_analyze",
   "language": "python",
   "name": "python3"
  },
  "language_info": {
   "codemirror_mode": {
    "name": "ipython",
    "version": 3
   },
   "file_extension": ".py",
   "mimetype": "text/x-python",
   "name": "python",
   "nbconvert_exporter": "python",
   "pygments_lexer": "ipython3",
   "version": "3.10.13"
  }
 },
 "nbformat": 4,
 "nbformat_minor": 2
}
