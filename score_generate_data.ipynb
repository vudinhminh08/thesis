{
 "cells": [
  {
   "cell_type": "code",
   "execution_count": 2,
   "metadata": {},
   "outputs": [],
   "source": [
    "import csv\n",
    "import random"
   ]
  },
  {
   "cell_type": "code",
   "execution_count": 3,
   "metadata": {},
   "outputs": [],
   "source": [
    "# Hàm tạo dữ liệu điểm thi\n",
    "def generate_scores(num_rows):\n",
    "    scores = []\n",
    "    for _ in range(num_rows):\n",
    "        math_score = random.randint(2, 20) * 0.5  # Toán\n",
    "        physics_score = random.randint(2, 20) * 0.5  # Lý\n",
    "        chemistry_score = random.randint(2, 20) * 0.5  # Hoá\n",
    "        biology_score = random.randint(2, 20) * 0.5  # Sinh\n",
    "        \n",
    "        scores.append([math_score, physics_score, chemistry_score, biology_score])\n",
    "    \n",
    "    return scores\n",
    "\n",
    "# Hàm lưu dữ liệu vào file CSV\n",
    "def save_to_csv(data, filename):\n",
    "    with open(filename, mode='w', newline='') as file:\n",
    "        writer = csv.writer(file)\n",
    "        writer.writerow(['Math', 'Physic', 'Chemistry', 'Biography'])  # Header\n",
    "        writer.writerows(data)\n",
    "\n"
   ]
  },
  {
   "cell_type": "code",
   "execution_count": 4,
   "metadata": {},
   "outputs": [
    {
     "name": "stdout",
     "output_type": "stream",
     "text": [
      "Dữ liệu đã được lưu vào file 'diem_thi.csv'\n"
     ]
    },
    {
     "ename": "",
     "evalue": "",
     "output_type": "error",
     "traceback": [
      "\u001b[1;31mThe Kernel crashed while executing code in the current cell or a previous cell. \n",
      "\u001b[1;31mPlease review the code in the cell(s) to identify a possible cause of the failure. \n",
      "\u001b[1;31mClick <a href='https://aka.ms/vscodeJupyterKernelCrash'>here</a> for more info. \n",
      "\u001b[1;31mView Jupyter <a href='command:jupyter.viewOutput'>log</a> for further details."
     ]
    }
   ],
   "source": [
    "# Số lượng dòng dữ liệu cần tạo\n",
    "num_rows = 200\n",
    "\n",
    "# Tạo dữ liệu điểm thi\n",
    "data = generate_scores(num_rows)\n",
    "\n",
    "# Lưu dữ liệu vào file CSV\n",
    "save_to_csv(data, 'diem_thi.csv')\n",
    "\n",
    "print(\"Dữ liệu đã được lưu vào file 'diem_thi.csv'\")"
   ]
  },
  {
   "cell_type": "code",
   "execution_count": null,
   "metadata": {},
   "outputs": [],
   "source": []
  }
 ],
 "metadata": {
  "kernelspec": {
   "display_name": "data_analyze",
   "language": "python",
   "name": "python3"
  },
  "language_info": {
   "codemirror_mode": {
    "name": "ipython",
    "version": 3
   },
   "file_extension": ".py",
   "mimetype": "text/x-python",
   "name": "python",
   "nbconvert_exporter": "python",
   "pygments_lexer": "ipython3",
   "version": "3.10.13"
  }
 },
 "nbformat": 4,
 "nbformat_minor": 2
}
