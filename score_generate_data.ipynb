{
 "cells": [
  {
   "cell_type": "code",
   "execution_count": 13,
   "metadata": {},
   "outputs": [],
   "source": [
    "import csv\n",
    "import random"
   ]
  },
  {
   "cell_type": "code",
   "execution_count": 20,
   "metadata": {},
   "outputs": [],
   "source": [
    "# Hàm tạo dữ liệu điểm thi\n",
    "def generate_scores(num_rows):\n",
    "    scores = []\n",
    "    for _ in range(num_rows):\n",
    "        math_score = random.randint(2, 20) * 0.5  # Toán\n",
    "        physics_score = random.randint(2, 20) * 0.5  # Lý\n",
    "        chemistry_score = random.randint(2, 20) * 0.5  # Hoá\n",
    "        biology_score = random.randint(2, 20) * 0.5  # Sinh\n",
    "        \n",
    "        scores.append([math_score, physics_score, chemistry_score, biology_score])\n",
    "    \n",
    "    return scores\n",
    "\n",
    "# Hàm lưu dữ liệu vào file CSV\n",
    "def save_to_csv(data, filename):\n",
    "    with open(filename, mode='w', newline='') as file:\n",
    "        writer = csv.writer(file)\n",
    "        writer.writerow(['Math', 'Physic', 'Chemistry', 'Biography'])  # Header\n",
    "        writer.writerows(data)\n",
    "\n"
   ]
  },
  {
   "cell_type": "code",
   "execution_count": 21,
   "metadata": {},
   "outputs": [
    {
     "name": "stdout",
     "output_type": "stream",
     "text": [
      "Dữ liệu đã được lưu vào file 'diem_thi.csv'\n"
     ]
    }
   ],
   "source": [
    "# Số lượng dòng dữ liệu cần tạo\n",
    "num_rows = 40\n",
    "\n",
    "# Tạo dữ liệu điểm thi\n",
    "data = generate_scores(num_rows)\n",
    "\n",
    "# Lưu dữ liệu vào file CSV\n",
    "save_to_csv(data, 'diem_thi.csv')\n",
    "\n",
    "print(\"Dữ liệu đã được lưu vào file 'diem_thi.csv'\")"
   ]
  }
 ],
 "metadata": {
  "kernelspec": {
   "display_name": "data_analyze",
   "language": "python",
   "name": "python3"
  },
  "language_info": {
   "codemirror_mode": {
    "name": "ipython",
    "version": 3
   },
   "file_extension": ".py",
   "mimetype": "text/x-python",
   "name": "python",
   "nbconvert_exporter": "python",
   "pygments_lexer": "ipython3",
   "version": "3.10.13"
  }
 },
 "nbformat": 4,
 "nbformat_minor": 2
}
